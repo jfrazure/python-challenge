{
 "cells": [
  {
   "cell_type": "code",
   "execution_count": 2,
   "id": "642e9501-ac95-4012-b875-77af0cb80825",
   "metadata": {
    "tags": []
   },
   "outputs": [
    {
     "data": {
      "text/plain": [
       "\"This python script will analyze a company's financial records.  It will use the pathlib library to set the file path, use the .csv library to read in the file, and iterate over each\\nrow of the file to calculate the company's profitability metrics\""
      ]
     },
     "execution_count": 2,
     "metadata": {},
     "output_type": "execute_result"
    }
   ],
   "source": [
    "#Python-Challenge\n",
    "\"\"\"This python script will analyze a company's financial records.  It will use the pathlib library to set the file path, use the .csv library to read in the file, and iterate over each\n",
    "row of the file to calculate the company's profitability metrics\"\"\""
   ]
  },
  {
   "cell_type": "code",
   "execution_count": 20,
   "id": "e7437362-4c3e-47c2-a65f-f2ca89a4ce29",
   "metadata": {
    "tags": []
   },
   "outputs": [],
   "source": [
    "#Import pathlib and .csv library\n",
    "from pathlib import Path\n",
    "import csv\n",
    "\n",
    "# Set the file path = Path(\"PyBank/Resources/budget_data.csv\")\n",
    "file = Path('PyBank/Resources/budget_data.csv')"
   ]
  },
  {
   "cell_type": "code",
   "execution_count": 324,
   "id": "9da902dc-a7f0-4788-b8e3-688b63562476",
   "metadata": {
    "tags": []
   },
   "outputs": [],
   "source": [
    "#Total number of months included in dataset\".\n",
    "\n",
    "total_months = 0\n",
    "total_profits = 0\n",
    "profit = 0\n",
    "changes = []\n",
    "dates = []\n",
    "previous_value = 0\n",
    "minimum_value = 0\n",
    "maximum_value = 0\n",
    "\n",
    "with open(file, 'r') as csvfile:\n",
    "    csvreader = csv.reader(csvfile)\n",
    "    header = next(csvreader)\n",
    "    \n",
    "# Read the header row first (skip this step if there is no header)\n",
    "    # csv_header = next(csvreader)\n",
    "        \n",
    "\n",
    "# Sum the total and count of the numbers in the text file\n",
    "    # total_months += 1\n",
    "    # total_profits += int(row[1])\n",
    "    \n",
    "\n",
    "    for row in csvreader:\n",
    "    \n",
    "        if total_months >= 0:\n",
    "            change = int(row[1])-previous_value\n",
    "            total_months += 1\n",
    "            total_profits += int(row[1])\n",
    "            previous_value = int(row[1])\n",
    "            changes.append(change)\n",
    "            \n",
    "        ## Logic for profit increase / decrease\n",
    "\n",
    "        if minimum_value == 0:\n",
    "            minimum_value = change\n",
    "            minimum_date = row[0]\n",
    "        elif change < minimum_value:\n",
    "            minimum_value = change\n",
    "            minimum_date = row[0]\n",
    "        elif change > maximum_value:\n",
    "            maximum_value = change\n",
    "            maximum_date = row[0]\n",
    "            \n",
    "    \n",
    "# Calculate the average change\n",
    "from statistics import mean\n",
    "average_change = mean(changes[1:87])\n",
    "\n"
   ]
  },
  {
   "cell_type": "code",
   "execution_count": 311,
   "id": "33cc1b89-0b16-4ec0-933e-bcd6582946fd",
   "metadata": {
    "tags": []
   },
   "outputs": [],
   "source": [
    "# Initialize profits variables\n",
    "greatest_decrease_profits = []\n",
    "greatest_increase_profits = []"
   ]
  },
  {
   "cell_type": "code",
   "execution_count": 325,
   "id": "9539eb36-2b8e-4674-a341-8c43a29af027",
   "metadata": {
    "tags": []
   },
   "outputs": [
    {
     "name": "stdout",
     "output_type": "stream",
     "text": [
      "Financial Analysis\n",
      "-------------------------\n",
      "Total Months: 86\n",
      "Total: $38382578\n",
      "    Average Change:  $-2315.12\n",
      "Greatest Increase in Profits:  Feb-2012 $ 1926159\n",
      "Greatest Decrease in Profits:  Sep-2013 $ -2196167\n"
     ]
    }
   ],
   "source": [
    "# Print out total months and total profits\n",
    "print(\"Financial Analysis\")\n",
    "print(\"-------------------------\")\n",
    "print(f\"Total Months: {total_months}\")\n",
    "print(f\"Total: ${total_profits}\")\n",
    "print(f\"    Average Change:  ${round(average_change,2)}\")\n",
    "print(f\"Greatest Increase in Profits: \", maximum_date, \"$\", (maximum_value))\n",
    "print(f\"Greatest Decrease in Profits: \", minimum_date, \"$\", (minimum_value))\n",
    "\n"
   ]
  },
  {
   "cell_type": "code",
   "execution_count": 327,
   "id": "781b8a90-9476-4794-9bb2-b084eb9f4623",
   "metadata": {
    "tags": []
   },
   "outputs": [],
   "source": [
    "# Set output file name\n",
    "output_path = 'output.txt'"
   ]
  },
  {
   "cell_type": "code",
   "execution_count": 338,
   "id": "52b64d67-b5ad-49de-98a1-40760b48bd31",
   "metadata": {
    "tags": []
   },
   "outputs": [],
   "source": [
    "# Output file to Jupyter/Git\n",
    "\n",
    "with open(output_path, 'w') as file:\n",
    "    file.write(\"Financial Analysis\\n\")\n",
    "    file.write(\"-------------------------\\n\")\n",
    "    file.write(f\"Total Months: {total_months}\\n\")\n",
    "    file.write(f\"Total: ${total_profits}\\n\")\n",
    "    file.write(f\"    Average Change:  ${round(average_change,2)}\\n\")\n",
    "    file.write(f\"Greatest Increase in Profits:  {maximum_date} $ {maximum_value}\\n\")\n",
    "    file.write(f\"Greatest Decrease in Profits:  {minimum_date} $ {minimum_value}\\n\")"
   ]
  },
  {
   "cell_type": "code",
   "execution_count": null,
   "id": "5aabb51a-a6fb-46d7-a84b-fd007e3b2a14",
   "metadata": {},
   "outputs": [],
   "source": []
  }
 ],
 "metadata": {
  "kernelspec": {
   "display_name": "Python 3 (ipykernel)",
   "language": "python",
   "name": "python3"
  },
  "language_info": {
   "codemirror_mode": {
    "name": "ipython",
    "version": 3
   },
   "file_extension": ".py",
   "mimetype": "text/x-python",
   "name": "python",
   "nbconvert_exporter": "python",
   "pygments_lexer": "ipython3",
   "version": "3.11.5"
  }
 },
 "nbformat": 4,
 "nbformat_minor": 5
}
